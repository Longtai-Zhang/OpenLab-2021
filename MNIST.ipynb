{
 "cells": [
  {
   "cell_type": "code",
   "execution_count": 1,
   "id": "702009ec",
   "metadata": {},
   "outputs": [],
   "source": [
    "# 引入库\n",
    "import numpy as np # 科学运算\n",
    "from PIL import Image # 图像处理\n",
    "import os # 系统文件处理 "
   ]
  },
  {
   "cell_type": "code",
   "execution_count": 2,
   "id": "a23e937f",
   "metadata": {},
   "outputs": [
    {
     "data": {
      "text/plain": [
       "60000"
      ]
     },
     "execution_count": 2,
     "metadata": {},
     "output_type": "execute_result"
    }
   ],
   "source": [
    "# 列出此文件夹下的所有文件名 即照片数量\n",
    "listing = os.listdir('images/')\n",
    "len(listing) # 数量"
   ]
  },
  {
   "cell_type": "code",
   "execution_count": 3,
   "id": "0a52599e",
   "metadata": {},
   "outputs": [],
   "source": [
    "# load函数 \n",
    "def load(path=\"images/\"):\n",
    "    '''\n",
    "    INPUT:\n",
    "    path            : the path of folder to be processed\n",
    "    \n",
    "    OUTPUT:\n",
    "    X, Y\n",
    "    '''\n",
    "    if path[-1] != '/':\n",
    "        path += '/'\n",
    "    \n",
    "    listing = os.listdir(path)\n",
    "    \n",
    "    X = np.zeros((60000, 784)) # 初始化特征\n",
    "    Y = np.zeros((60000, 1)) # 初始化label 真实值\n",
    "    \n",
    "    for i in range(len(listing)):\n",
    "        img = Image.open('images/' + listing[i]).convert('L') # Image库中的open方法 转换成灰度照片\n",
    "        arr = np.asarray(img) # 将照片转换成矩阵 28*28矩阵\n",
    "        label = listing[i][-5] # 真实数据\n",
    "        X[i] = arr.flatten() # 照片矩阵扁平化 （1*784的行矩阵） 储存为第I个样本\n",
    "        Y[i] = label    \n",
    "    return X, Y # 返回X.Y矩阵\n",
    "    \n",
    "X, Y = load() # 导入数据"
   ]
  },
  {
   "cell_type": "code",
   "execution_count": 4,
   "id": "4b65857a",
   "metadata": {},
   "outputs": [
    {
     "name": "stdout",
     "output_type": "stream",
     "text": [
      "[8.]\n"
     ]
    },
    {
     "data": {
      "image/png": "[encoded data removed]",
      "text/plain": [
       "<Figure size 432x288 with 1 Axes>"
      ]
     },
     "metadata": {
      "needs_background": "light"
     },
     "output_type": "display_data"
    }
   ],
   "source": [
    "from matplotlib.pyplot import imshow # 引入库 打印照片 \n",
    "\n",
    "index = 300 # random\n",
    "\n",
    "%matplotlib inline \n",
    "matrix = np.reshape(X[index], (28, 28)) # 将第i个样本转换成28*28的矩阵\n",
    "img = Image.fromarray(matrix) # 将矩阵转化成照片\n",
    "imshow(np.asarray(img)) # 打印照片\n",
    "print(Y[index]) # 打印照片对应的真实值"
   ]
  },
  {
   "cell_type": "code",
   "execution_count": 22,
   "id": "ef839225",
   "metadata": {},
   "outputs": [],
   "source": [
    "from sklearn.model_selection import train_test_split # 引入库 \n",
    "xTr, xTe, yTr, yTe = train_test_split(X, Y, test_size=0.05) # Train Test X-Y 训练测试集合 95%的数据作为训练集 5%的数据作为测试集\n",
    "\n",
    "xTr, xVa, yTr, yVa = train_test_split(xTr, yTr, test_size=0.10) # Train Validation 将训练集再细分为90%练习集和10%验证集\n",
    "#为什么需要训练集合？\n",
    "#期末考试-平时测试"
   ]
  },
  {
   "cell_type": "code",
   "execution_count": 23,
   "id": "92a50c2d",
   "metadata": {},
   "outputs": [
    {
     "name": "stdout",
     "output_type": "stream",
     "text": [
      "(51300, 784)\n",
      "(51300, 1)\n",
      "(5700, 784)\n",
      "(5700, 1)\n",
      "(3000, 784)\n",
      "(3000, 1)\n"
     ]
    }
   ],
   "source": [
    "print(xTr.shape)\n",
    "print(yTr.shape)\n",
    "print(xVa.shape)\n",
    "print(yVa.shape)\n",
    "print(xTe.shape)\n",
    "print(yTe.shape)"
   ]
  },
  {
   "cell_type": "code",
   "execution_count": 7,
   "id": "5d650021",
   "metadata": {},
   "outputs": [
    {
     "data": {
      "text/plain": [
       "KNeighborsClassifier(n_neighbors=3)"
      ]
     },
     "execution_count": 7,
     "metadata": {},
     "output_type": "execute_result"
    }
   ],
   "source": [
    "from sklearn.neighbors import KNeighborsClassifier # kNN\n",
    "knn = KNeighborsClassifier(n_neighbors=3) # 新建kNN模型 k取3\n",
    "knn.fit(xTr, yTr.ravel()) # 训练模型 fit-适应 ravel（）把列矩阵变成向量"
   ]
  },
  {
   "cell_type": "code",
   "execution_count": 8,
   "id": "9726482c",
   "metadata": {},
   "outputs": [
    {
     "data": {
      "text/plain": [
       "0.9763157894736842"
      ]
     },
     "execution_count": 8,
     "metadata": {},
     "output_type": "execute_result"
    }
   ],
   "source": [
    "knn.score(xVa, yVa) # 通过验证集检测模型准确率"
   ]
  },
  {
   "cell_type": "code",
   "execution_count": 14,
   "id": "57ed1689",
   "metadata": {},
   "outputs": [],
   "source": [
    "def imageResize(path):\n",
    "    image = Image.open(path)\n",
    "    size = (28, 28) # 新建变量tuple类型的 size \n",
    "    image.thumbnail(size) # 将图片变成size大小\n",
    "    image.save('testimage.png') # 保存文件"
   ]
  },
  {
   "cell_type": "code",
   "execution_count": 15,
   "id": "d598716f",
   "metadata": {},
   "outputs": [],
   "source": [
    "imageResize('test.png') # 调用函数"
   ]
  },
  {
   "cell_type": "code",
   "execution_count": 25,
   "id": "d0acf83f",
   "metadata": {},
   "outputs": [
    {
     "name": "stdout",
     "output_type": "stream",
     "text": [
      "这次测试我们自己拍的照片\n",
      "预测的数字是：4.0\n",
      "实际的数字是：4\n"
     ]
    },
    {
     "data": {
      "text/plain": [
       "<matplotlib.image.AxesImage at 0x284db374b50>"
      ]
     },
     "execution_count": 25,
     "metadata": {},
     "output_type": "execute_result"
    },
    {
     "data": {
      "image/png": "[encoded data removed]",
      "text/plain": [
       "<Figure size 432x288 with 1 Axes>"
      ]
     },
     "metadata": {
      "needs_background": "light"
     },
     "output_type": "display_data"
    }
   ],
   "source": [
    "img = Image.open('testimage.png').convert('L') # 变成灰度模式\n",
    "arr = np.asarray(img)\n",
    "label = 4\n",
    "x = arr.flatten()\n",
    "pred = knn.predict(x.reshape((1,784))) # 变成行矩阵，只能接受矩阵\n",
    "print(\"这次测试我们自己拍的照片\")\n",
    "print(\"预测的数字是：\"+str(pred[0])) \n",
    "print(\"实际的数字是：\"+str(label))\n",
    "\n",
    "%matplotlib inline\n",
    "matrix = np.reshape(x, (28, 28))\n",
    "img = Image.fromarray(matrix)\n",
    "imshow(np.asarray(img)) # 打印照片"
   ]
  },
  {
   "cell_type": "code",
   "execution_count": 28,
   "id": "2311a598",
   "metadata": {},
   "outputs": [
    {
     "name": "stdout",
     "output_type": "stream",
     "text": [
      "这次测试验证集中的第4056个照片\n",
      "预测的数字是：1.0\n",
      "实际的数字是：1.0\n"
     ]
    },
    {
     "data": {
      "image/png": "[encoded data removed]",
      "text/plain": [
       "<Figure size 432x288 with 1 Axes>"
      ]
     },
     "metadata": {
      "needs_background": "light"
     },
     "output_type": "display_data"
    }
   ],
   "source": [
    "from random import randrange\n",
    "index = randrange(5700) # 随机选取一个\n",
    "\n",
    "%matplotlib inline\n",
    "matrix = np.reshape(xVa[index], (28, 28))\n",
    "img = Image.fromarray(matrix)\n",
    "imshow(np.asarray(img))\n",
    "x = np.reshape(xVa[index], (1, 784))\n",
    "y_hat = knn.predict(x)[0] # 预测数值\n",
    "y = yVa[index][0] # 真实值\n",
    "print(\"这次测试验证集中的第\"+str(index+1)+\"个照片\")\n",
    "print(\"预测的数字是：\"+str(y_hat))\n",
    "print(\"实际的数字是：\"+str(y))"
   ]
  },
  {
   "cell_type": "code",
   "execution_count": 33,
   "id": "d017c548",
   "metadata": {},
   "outputs": [],
   "source": [
    "y_hat = np.reshape(knn.predict(xVa), (5700, 1)) # 所有的预测结果->列矩阵"
   ]
  },
  {
   "cell_type": "code",
   "execution_count": 34,
   "id": "30ecfba4",
   "metadata": {},
   "outputs": [
    {
     "data": {
      "text/plain": [
       "73"
      ]
     },
     "execution_count": 34,
     "metadata": {},
     "output_type": "execute_result"
    }
   ],
   "source": [
    "wrong_indices = np.where(np.not_equal(y_hat, yVa))[0]\n",
    "len(wrong_indices) # 所有预测有误的地方的总数"
   ]
  },
  {
   "cell_type": "code",
   "execution_count": 39,
   "id": "b54718e6",
   "metadata": {},
   "outputs": [
    {
     "name": "stdout",
     "output_type": "stream",
     "text": [
      "这次测试验证集中的第3585个照片\n",
      "预测的数字是：7.0\n",
      "实际的数字是：9.0\n"
     ]
    },
    {
     "data": {
      "image/png": "[encoded data removed]",
      "text/plain": [
       "<Figure size 432x288 with 1 Axes>"
      ]
     },
     "metadata": {
      "needs_background": "light"
     },
     "output_type": "display_data"
    }
   ],
   "source": [
    "%matplotlib inline\n",
    "\n",
    "from random import randrange\n",
    "index = wrong_indices[randrange(len(wrong_indices))]\n",
    "\n",
    "matrix = np.reshape(xVa[index], (28, 28))\n",
    "img = Image.fromarray(matrix)\n",
    "imshow(np.asarray(img))\n",
    "x = np.reshape(xVa[index], (1, 784))\n",
    "y_hat = knn.predict(x)[0]\n",
    "y = yVa[index][0]\n",
    "print(\"这次测试验证集中的第\"+str(index+1)+\"个照片\")\n",
    "print(\"预测的数字是：\"+str(y_hat))\n",
    "print(\"实际的数字是：\"+str(y))"
   ]
  },
  {
   "cell_type": "code",
   "execution_count": 40,
   "id": "9f341392",
   "metadata": {},
   "outputs": [
    {
     "data": {
      "text/plain": [
       "(array([0., 2., 3., 4., 5., 7., 8., 9.]),\n",
       " array([ 2, 10, 10,  8,  3, 13, 16, 11], dtype=int64))"
      ]
     },
     "execution_count": 40,
     "metadata": {},
     "output_type": "execute_result"
    }
   ],
   "source": [
    "np.unique(yVa[wrong_indices], return_counts=True) # 显示每个数错误了几次"
   ]
  },
  {
   "cell_type": "code",
   "execution_count": 42,
   "id": "3dbb183b",
   "metadata": {},
   "outputs": [
    {
     "data": {
      "text/plain": [
       "(array([0., 1., 2., 3., 4., 5., 6., 7., 8., 9.]),\n",
       " array([5045, 5795, 5089, 5202, 4998, 4668, 5040, 5354, 5029, 5080],\n",
       "       dtype=int64))"
      ]
     },
     "execution_count": 42,
     "metadata": {},
     "output_type": "execute_result"
    }
   ],
   "source": [
    "np.unique(yTr, return_counts=True) # 每个数在验证集中出现的次数 需要每个数出现差不多 如果一个数过多的话 预测结果就会出现偏差\n",
    "# 如果出现60000个 1 那么机器无论遇见什么数字 都会将其视为1"
   ]
  },
  {
   "cell_type": "code",
   "execution_count": 43,
   "id": "c5d9bf01",
   "metadata": {},
   "outputs": [
    {
     "data": {
      "text/plain": [
       "array([0.96929825, 0.96491228, 0.97192982, 0.97017544, 0.97122807,\n",
       "       0.97210526, 0.97210526, 0.96807018, 0.96719298, 0.96596491])"
      ]
     },
     "execution_count": 43,
     "metadata": {},
     "output_type": "execute_result"
    }
   ],
   "source": [
    "from sklearn.neighbors import KNeighborsClassifier\n",
    "ks = [1,2,3,4,5,6,7,8,9,10]\n",
    "scores = np.zeros(10) # 初始化一个np.array\n",
    "\n",
    "for i in range(len(ks)):\n",
    "    k = ks[i]\n",
    "    knn = KNeighborsClassifier(n_neighbors=k).fit(xTr, yTr.ravel())\n",
    "    scores[i] = knn.score(xVa, yVa)\n",
    "    \n",
    "scores"
   ]
  },
  {
   "cell_type": "code",
   "execution_count": 16,
   "id": "41e35863",
   "metadata": {},
   "outputs": [],
   "source": [
    "from sklearn.neural_network import MLPClassifier # 深度学习神经网路"
   ]
  },
  {
   "cell_type": "code",
   "execution_count": 17,
   "id": "7031fc68",
   "metadata": {},
   "outputs": [
    {
     "name": "stderr",
     "output_type": "stream",
     "text": [
      "/Users/zhaiguankai/anaconda3/lib/python3.8/site-packages/sklearn/utils/validation.py:63: DataConversionWarning: A column-vector y was passed when a 1d array was expected. Please change the shape of y to (n_samples, ), for example using ravel().\n",
      "  return f(*args, **kwargs)\n"
     ]
    }
   ],
   "source": [
    "nn_model = MLPClassifier(hidden_layer_sizes=(500,200,50,30,30,15)).fit(xTr, yTr) # 初始化模型并且训练"
   ]
  },
  {
   "cell_type": "code",
   "execution_count": 18,
   "id": "8e1e6d49",
   "metadata": {},
   "outputs": [
    {
     "data": {
      "text/plain": [
       "0.12368421052631579"
      ]
     },
     "execution_count": 18,
     "metadata": {},
     "output_type": "execute_result"
    }
   ],
   "source": [
    "nn_model.score(xVa, yVa) # 结果很不好"
   ]
  },
  {
   "cell_type": "code",
   "execution_count": 19,
   "id": "a8f68589",
   "metadata": {},
   "outputs": [],
   "source": [
    "from sklearn.ensemble import RandomForestClassifier # 随机森林"
   ]
  },
  {
   "cell_type": "code",
   "execution_count": 20,
   "id": "14b00742",
   "metadata": {},
   "outputs": [
    {
     "name": "stderr",
     "output_type": "stream",
     "text": [
      "<ipython-input-20-8936e23eea3f>:1: DataConversionWarning: A column-vector y was passed when a 1d array was expected. Please change the shape of y to (n_samples,), for example using ravel().\n",
      "  model = RandomForestClassifier(n_estimators=1000).fit(xTr, yTr)\n"
     ]
    }
   ],
   "source": [
    "model = RandomForestClassifier(n_estimators=1000).fit(xTr, yTr)"
   ]
  },
  {
   "cell_type": "code",
   "execution_count": 21,
   "id": "2eb07275",
   "metadata": {},
   "outputs": [
    {
     "data": {
      "text/plain": [
       "0.9719298245614035"
      ]
     },
     "execution_count": 21,
     "metadata": {},
     "output_type": "execute_result"
    }
   ],
   "source": [
    "model.score(xVa, yVa)"
   ]
  }
 ],
 "metadata": {
  "kernelspec": {
   "display_name": "Python 3",
   "language": "python",
   "name": "python3"
  },
  "language_info": {
   "codemirror_mode": {
    "name": "ipython",
    "version": 3
   },
   "file_extension": ".py",
   "mimetype": "text/x-python",
   "name": "python",
   "nbconvert_exporter": "python",
   "pygments_lexer": "ipython3",
   "version": "3.8.8"
  }
 },
 "nbformat": 4,
 "nbformat_minor": 5
}
